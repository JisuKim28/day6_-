{
  "nbformat": 4,
  "nbformat_minor": 0,
  "metadata": {
    "colab": {
      "provenance": []
    },
    "kernelspec": {
      "name": "python3",
      "display_name": "Python 3"
    },
    "language_info": {
      "name": "python"
    }
  },
  "cells": [
    {
      "cell_type": "code",
      "execution_count": null,
      "metadata": {
        "id": "yo4pNdcK8XcM"
      },
      "outputs": [],
      "source": [
        "import pandas as pd\n",
        "import numpy as np\n",
        "\n",
        "import seaborn as sns\n",
        "from sklearn.linear_model import LinearRegression\n",
        "from sklearn.metrics import r2_score\n",
        "from scipy import stats\n",
        "\n",
        "import warnings\n",
        "warnings.filterwarnings('ignore')\n",
        "\n",
        "import matplotlib.pyplot as plt\n",
        "\n",
        "# 한글 폰트 설정\n",
        "plt.rc('font', family='NanumBarunGothic')"
      ]
    },
    {
      "cell_type": "markdown",
      "source": [
        "# 미션 1: A/B 테스트 신뢰구간 분석"
      ],
      "metadata": {
        "id": "SV0WTyjo8lXi"
      }
    },
    {
      "cell_type": "code",
      "source": [
        "# A/B 테스트 데이터 생성\n",
        "np.random.seed(404)\n",
        "\n",
        "# A그룹 (기존 디자인): 전환율 12%\n",
        "n_a = 500\n",
        "conversion_rate_a = 0.12\n",
        "conversions_a = np.random.binomial(1, conversion_rate_a, n_a)\n",
        "\n",
        "# B그룹 (새 디자인): 전환율 15%\n",
        "n_b = 500\n",
        "conversion_rate_b = 0.15\n",
        "conversions_b = np.random.binomial(1, conversion_rate_b, n_b)\n",
        "\n",
        "# 데이터프레임 생성\n",
        "ab_test_data = pd.DataFrame({\n",
        "    'group': ['A']*n_a + ['B']*n_b,\n",
        "    'user_id': range(1, n_a + n_b + 1),\n",
        "    'converted': np.concatenate([conversions_a, conversions_b])\n",
        "})\n",
        "\n",
        "print(\"🧪 A/B 테스트 데이터\")\n",
        "print(f\"A그룹 사용자 수: {n_a}명\")\n",
        "print(f\"B그룹 사용자 수: {n_b}명\")\n",
        "print(\"\\n그룹별 전환율:\")\n",
        "conversion_summary = ab_test_data.groupby('group')['converted'].agg(['count', 'sum', 'mean'])\n",
        "conversion_summary.columns = ['총_사용자수', '전환_사용자수', '전환율']\n",
        "print(conversion_summary)"
      ],
      "metadata": {
        "colab": {
          "base_uri": "https://localhost:8080/"
        },
        "id": "D8geS7hP8kgb",
        "outputId": "f38963d5-67a4-48c5-edd2-41c86214cb5a"
      },
      "execution_count": null,
      "outputs": [
        {
          "output_type": "stream",
          "name": "stdout",
          "text": [
            "🧪 A/B 테스트 데이터\n",
            "A그룹 사용자 수: 500명\n",
            "B그룹 사용자 수: 500명\n",
            "\n",
            "그룹별 전환율:\n",
            "       총_사용자수  전환_사용자수    전환율\n",
            "group                        \n",
            "A         500       60  0.120\n",
            "B         500       56  0.112\n"
          ]
        }
      ]
    },
    {
      "cell_type": "code",
      "source": [
        "# 문제 1-1: 기본 통계량 계산하기\n",
        "# TODO: p_a 계산하기 (A그룹 전환율)\n",
        "p_a = np.mean(conversions_a)\n",
        "\n",
        "# TODO: p_b 계산하기 (B그룹 전환율)\n",
        "p_b = np.mean(conversions_b)\n",
        "\n",
        "# TODO: A그룹 표준오차 계산하기\n",
        "# 힌트: 비율의 표준오차 공식은 sqrt(p(1-p)/n)\n",
        "se_a = np.sqrt(p_a * (1 - p_a) / n_a)\n",
        "\n",
        "# TODO: B그룹 표준오차 계산하기\n",
        "se_b = np.sqrt(p_b * (1 - p_b) / n_b)\n",
        "\n",
        "print(f\"A그룹 전환율: {p_a:.3f} ± {se_a:.3f}\")\n",
        "print(f\"B그룹 전환율: {p_b:.3f} ± {se_b:.3f}\")"
      ],
      "metadata": {
        "colab": {
          "base_uri": "https://localhost:8080/"
        },
        "id": "r6H6s7x2_HDq",
        "outputId": "557b0577-0b55-431e-9ec3-8fa544038a9c"
      },
      "execution_count": null,
      "outputs": [
        {
          "output_type": "stream",
          "name": "stdout",
          "text": [
            "A그룹 전환율: 0.120 ± 0.015\n",
            "B그룹 전환율: 0.112 ± 0.014\n"
          ]
        }
      ]
    },
    {
      "cell_type": "code",
      "source": [
        "# 문제 1-2: A그룹 신뢰구간 계산하기\n",
        "# TODO: 95% 신뢰구간용 z값 설정\n",
        "z_score = 1.96\n",
        "\n",
        "# TODO: A그룹 신뢰구간 하한 계산\n",
        "ci_a_lower = p_a - z_score * se_a\n",
        "\n",
        "# TODO: A그룹 신뢰구간 상한 계산\n",
        "ci_a_upper = p_a + z_score * se_a\n",
        "\n",
        "print(f\"A그룹 95% 신뢰구간: [{ci_a_lower:.3f}, {ci_a_upper:.3f}]\")"
      ],
      "metadata": {
        "colab": {
          "base_uri": "https://localhost:8080/"
        },
        "id": "GtbdnXu0A4S-",
        "outputId": "c9a38656-e0de-493f-afda-8772d2cba9ff"
      },
      "execution_count": null,
      "outputs": [
        {
          "output_type": "stream",
          "name": "stdout",
          "text": [
            "A그룹 95% 신뢰구간: [0.092, 0.148]\n"
          ]
        }
      ]
    },
    {
      "cell_type": "markdown",
      "source": [
        "모집단 비율(p)은 9.2% ~ 14.8% 사이에 있을 것이라고 95% 확신할 수 있다는 의미"
      ],
      "metadata": {
        "id": "gJRwS_z8BtCv"
      }
    },
    {
      "cell_type": "code",
      "source": [
        "# 문제 1-3: B그룹 신뢰구간 계산하기\n",
        "# TODO: B그룹 신뢰구간 하한 계산\n",
        "ci_b_lower = p_b - z_score * se_b\n",
        "\n",
        "# TODO: B그룹 신뢰구간 상한 계산\n",
        "ci_b_upper = p_b + z_score * se_b\n",
        "\n",
        "print(f\"B그룹 95% 신뢰구간: [{ci_b_lower:.3f}, {ci_b_upper:.3f}]\")"
      ],
      "metadata": {
        "colab": {
          "base_uri": "https://localhost:8080/"
        },
        "id": "sdyvKWaGBTRH",
        "outputId": "b9b3022e-fc06-4f7f-fc5a-dbf5517da18d"
      },
      "execution_count": null,
      "outputs": [
        {
          "output_type": "stream",
          "name": "stdout",
          "text": [
            "B그룹 95% 신뢰구간: [0.084, 0.140]\n"
          ]
        }
      ]
    },
    {
      "cell_type": "code",
      "source": [
        "# 문제 1-4: 그룹별 신뢰구간 시각화하기\n",
        "# TODO: 그래프 그리기\n",
        "plt.figure(figsize=(10, 6))\n",
        "\n",
        "# TODO: 그룹명과 전환율 리스트 만들기\n",
        "groups = ['A그룹', 'B그룹']\n",
        "rates = [p_a, p_b]\n",
        "\n",
        "# TODO: 오차막대 크기 계산 (z_score * 표준오차)\n",
        "errors = [z_score * se_a, z_score * se_b]\n",
        "\n",
        "# TODO: 막대그래프 그리기\n",
        "# 힌트: plt.bar(x, height, yerr=오차막대, capsize=10, alpha=0.7)\n",
        "plt.bar(groups, rates, yerr=errors, capsize=10, alpha=0.7, color=['skyblue', 'salmon'])\n",
        "\n",
        "plt.ylabel('전환율')\n",
        "plt.title('그룹별 전환율과 95% 신뢰구간')\n",
        "plt.show()"
      ],
      "metadata": {
        "colab": {
          "base_uri": "https://localhost:8080/",
          "height": 1000
        },
        "id": "NSFPeqpPBfMk",
        "outputId": "8fd82a47-3883-4282-dba2-8478962d995f"
      },
      "execution_count": null,
      "outputs": [
        {
          "output_type": "stream",
          "name": "stderr",
          "text": [
            "WARNING:matplotlib.font_manager:findfont: Font family 'NanumBarunGothic' not found.\n",
            "WARNING:matplotlib.font_manager:findfont: Font family 'NanumBarunGothic' not found.\n",
            "WARNING:matplotlib.font_manager:findfont: Font family 'NanumBarunGothic' not found.\n",
            "WARNING:matplotlib.font_manager:findfont: Font family 'NanumBarunGothic' not found.\n",
            "WARNING:matplotlib.font_manager:findfont: Font family 'NanumBarunGothic' not found.\n",
            "WARNING:matplotlib.font_manager:findfont: Font family 'NanumBarunGothic' not found.\n",
            "WARNING:matplotlib.font_manager:findfont: Font family 'NanumBarunGothic' not found.\n",
            "WARNING:matplotlib.font_manager:findfont: Font family 'NanumBarunGothic' not found.\n",
            "WARNING:matplotlib.font_manager:findfont: Font family 'NanumBarunGothic' not found.\n",
            "WARNING:matplotlib.font_manager:findfont: Font family 'NanumBarunGothic' not found.\n",
            "WARNING:matplotlib.font_manager:findfont: Font family 'NanumBarunGothic' not found.\n",
            "WARNING:matplotlib.font_manager:findfont: Font family 'NanumBarunGothic' not found.\n",
            "WARNING:matplotlib.font_manager:findfont: Font family 'NanumBarunGothic' not found.\n",
            "WARNING:matplotlib.font_manager:findfont: Font family 'NanumBarunGothic' not found.\n",
            "WARNING:matplotlib.font_manager:findfont: Font family 'NanumBarunGothic' not found.\n",
            "WARNING:matplotlib.font_manager:findfont: Font family 'NanumBarunGothic' not found.\n",
            "WARNING:matplotlib.font_manager:findfont: Font family 'NanumBarunGothic' not found.\n",
            "WARNING:matplotlib.font_manager:findfont: Font family 'NanumBarunGothic' not found.\n",
            "WARNING:matplotlib.font_manager:findfont: Font family 'NanumBarunGothic' not found.\n",
            "WARNING:matplotlib.font_manager:findfont: Font family 'NanumBarunGothic' not found.\n",
            "WARNING:matplotlib.font_manager:findfont: Font family 'NanumBarunGothic' not found.\n",
            "WARNING:matplotlib.font_manager:findfont: Font family 'NanumBarunGothic' not found.\n",
            "WARNING:matplotlib.font_manager:findfont: Font family 'NanumBarunGothic' not found.\n",
            "WARNING:matplotlib.font_manager:findfont: Font family 'NanumBarunGothic' not found.\n",
            "WARNING:matplotlib.font_manager:findfont: Font family 'NanumBarunGothic' not found.\n",
            "WARNING:matplotlib.font_manager:findfont: Font family 'NanumBarunGothic' not found.\n",
            "WARNING:matplotlib.font_manager:findfont: Font family 'NanumBarunGothic' not found.\n",
            "WARNING:matplotlib.font_manager:findfont: Font family 'NanumBarunGothic' not found.\n",
            "WARNING:matplotlib.font_manager:findfont: Font family 'NanumBarunGothic' not found.\n",
            "WARNING:matplotlib.font_manager:findfont: Font family 'NanumBarunGothic' not found.\n",
            "WARNING:matplotlib.font_manager:findfont: Font family 'NanumBarunGothic' not found.\n",
            "WARNING:matplotlib.font_manager:findfont: Font family 'NanumBarunGothic' not found.\n",
            "WARNING:matplotlib.font_manager:findfont: Font family 'NanumBarunGothic' not found.\n",
            "WARNING:matplotlib.font_manager:findfont: Font family 'NanumBarunGothic' not found.\n",
            "WARNING:matplotlib.font_manager:findfont: Font family 'NanumBarunGothic' not found.\n",
            "WARNING:matplotlib.font_manager:findfont: Font family 'NanumBarunGothic' not found.\n",
            "WARNING:matplotlib.font_manager:findfont: Font family 'NanumBarunGothic' not found.\n",
            "WARNING:matplotlib.font_manager:findfont: Font family 'NanumBarunGothic' not found.\n",
            "WARNING:matplotlib.font_manager:findfont: Font family 'NanumBarunGothic' not found.\n",
            "WARNING:matplotlib.font_manager:findfont: Font family 'NanumBarunGothic' not found.\n"
          ]
        },
        {
          "output_type": "display_data",
          "data": {
            "text/plain": [
              "<Figure size 1000x600 with 1 Axes>"
            ],
            "image/png": "[encoded data removed]"
          },
          "metadata": {}
        }
      ]
    },
    {
      "cell_type": "code",
      "source": [
        "# 문제 1-5: 전환율 차이 계산하기\n",
        "# TODO: 전환율 차이 계산 (B - A)\n",
        "diff = p_b - p_a\n",
        "\n",
        "# TODO: 차이의 표준오차 계산\n",
        "# 힌트: 두 독립 비율 차이의 표준오차는 sqrt(se_a^2 + se_b^2)\n",
        "se_diff = np.sqrt(se_a**2 + se_b**2)\n",
        "\n",
        "print(f\"전환율 차이 (B-A): {diff:.3f}\")\n",
        "print(f\"차이의 표준오차: {se_diff:.3f}\")"
      ],
      "metadata": {
        "colab": {
          "base_uri": "https://localhost:8080/"
        },
        "id": "G4d3QZUQCBLl",
        "outputId": "aae3e60c-7663-4084-b2c6-1bc765778a66"
      },
      "execution_count": null,
      "outputs": [
        {
          "output_type": "stream",
          "name": "stdout",
          "text": [
            "전환율 차이 (B-A): -0.008\n",
            "차이의 표준오차: 0.020\n"
          ]
        }
      ]
    },
    {
      "cell_type": "code",
      "source": [
        "# 문제 1-6: 차이의 신뢰구간 계산하기\n",
        "# TODO: 차이의 신뢰구간 하한 계산\n",
        "ci_diff_lower = diff - 1.96 * se_diff\n",
        "\n",
        "# TODO: 차이의 신뢰구간 상한 계산\n",
        "ci_diff_upper = diff + 1.96 * se_diff\n",
        "\n",
        "print(f\"전환율 차이의 95% 신뢰구간: [{ci_diff_lower:.3f}, {ci_diff_upper:.3f}]\")\n",
        "\n",
        "# TODO: 0이 포함되는지 확인하기\n",
        "if ci_diff_lower > 0:\n",
        "    print(\"🎉 B가 A보다 확실히 좋습니다!\")\n",
        "elif ci_diff_upper < 0:\n",
        "    print(\"😢 A가 B보다 확실히 좋습니다.\")\n",
        "else:\n",
        "    print(\"🤔 확실하지 않습니다.\")"
      ],
      "metadata": {
        "colab": {
          "base_uri": "https://localhost:8080/"
        },
        "id": "vimlkOflCSjj",
        "outputId": "3267f4ec-a3f6-41b4-b266-48f5bb5977b5"
      },
      "execution_count": null,
      "outputs": [
        {
          "output_type": "stream",
          "name": "stdout",
          "text": [
            "전환율 차이의 95% 신뢰구간: [-0.048, 0.032]\n",
            "🤔 확실하지 않습니다.\n"
          ]
        }
      ]
    },
    {
      "cell_type": "code",
      "source": [
        "# 문제 1-7: 경영진 보고서 작성하기\n",
        "# TODO: 보고서 완성하기\n",
        "print(\"📋 경영진 보고서\")\n",
        "print(\"=\"*50)\n",
        "print(f\"🔍 분석 결과:\")\n",
        "print(f\"   • A그룹 전환율: {p_a:.1%}\")\n",
        "print(f\"   • B그룹 전환율: {p_b:.1%}\")\n",
        "print(f\"   • 개선 효과: {diff:.1%}p\")\n",
        "print()\n",
        "print(f\"📊 통계적 신뢰도:\")\n",
        "print(f\"   • 개선 효과 범위: {ci_diff_lower:.1%}p ~ {ci_diff_upper:.1%}p\")\n",
        "print()\n",
        "print(\"💡 의사결정:\")\n",
        "\n",
        "# TODO: if문을 사용해서 권장사항 작성하기\n",
        "# 힌트: ci_diff_lower > 0이면 새 디자인 도입 권장\n",
        "if ci_diff_lower > 0:\n",
        "    print(\"✅ 새 디자인(B) 도입을 권장합니다!\")\n",
        "else:\n",
        "    print(\"❌ 추가 데이터 수집이 필요합니다.\")"
      ],
      "metadata": {
        "colab": {
          "base_uri": "https://localhost:8080/"
        },
        "id": "XVZKWmURCciz",
        "outputId": "024b98f4-74de-482e-8808-9f608edda94d"
      },
      "execution_count": null,
      "outputs": [
        {
          "output_type": "stream",
          "name": "stdout",
          "text": [
            "📋 경영진 보고서\n",
            "==================================================\n",
            "🔍 분석 결과:\n",
            "   • A그룹 전환율: 12.0%\n",
            "   • B그룹 전환율: 11.2%\n",
            "   • 개선 효과: -0.8%p\n",
            "\n",
            "📊 통계적 신뢰도:\n",
            "   • 개선 효과 범위: -4.8%p ~ 3.2%p\n",
            "\n",
            "💡 의사결정:\n",
            "❌ 추가 데이터 수집이 필요합니다.\n"
          ]
        }
      ]
    },
    {
      "cell_type": "markdown",
      "source": [
        "# 미션 2: 연령대별 구매 분석 (t-검정 마스터하기!)\n",
        "\n",
        "온라인 쇼핑몰에서 \"연령대에 따라 구매 패턴이 다를까?\"\n",
        "\n"
      ],
      "metadata": {
        "id": "jch3VqZpCzwU"
      }
    },
    {
      "cell_type": "code",
      "source": [
        "# 온라인 쇼핑몰의 구매 데이터\n",
        "np.random.seed(789)\n",
        "ages = np.random.randint(20, 60, 100)\n",
        "purchase_amounts = 50 + 2*ages + np.random.normal(0, 20, 100)\n",
        "\n",
        "print(\"📊 구매 데이터 미리보기\")\n",
        "print(f\"연령 범위: {ages.min()}세 ~ {ages.max()}세\")\n",
        "print(f\"구매금액 범위: {purchase_amounts.min():.0f}만원 ~ {purchase_amounts.max():.0f}만원\")\n",
        "print(f\"평균 구매금액: {purchase_amounts.mean():.1f}만원\")"
      ],
      "metadata": {
        "colab": {
          "base_uri": "https://localhost:8080/"
        },
        "id": "mJK_g0VNCjIa",
        "outputId": "76b75612-596d-4355-b951-a856fc724928"
      },
      "execution_count": null,
      "outputs": [
        {
          "output_type": "stream",
          "name": "stdout",
          "text": [
            "📊 구매 데이터 미리보기\n",
            "연령 범위: 20세 ~ 59세\n",
            "구매금액 범위: 39만원 ~ 208만원\n",
            "평균 구매금액: 130.1만원\n"
          ]
        }
      ]
    },
    {
      "cell_type": "markdown",
      "source": [
        "np.random.normal(0, 20, 100): 나이만으로 구매금액이 완벽히 예측되어 버리기 때문에 현실성이 떨어짐\n",
        "\n",
        "개인의 다양성, 예외, 특이치 등 현실적 요인들을 표현하기 위해 데이터를 현실적으로 가공"
      ],
      "metadata": {
        "id": "biffgg0BERCK"
      }
    },
    {
      "cell_type": "code",
      "source": [
        "# 문제 2-1: 기본 통계량 계산하기\n",
        "# TODO: 표본 평균 계산\n",
        "sample_mean = purchase_amounts.mean()\n",
        "\n",
        "# TODO: 표본 표준편차 계산\n",
        "sample_std = purchase_amounts.std(ddof=1)\n",
        "\n",
        "# TODO: 표본 크기 계산\n",
        "n = len(purchase_amounts)\n",
        "\n",
        "# TODO: 비교할 기준값 설정 (업계 기준 150만원)\n",
        "standard_value = 150\n",
        "\n",
        "print(f\"표본 평균: {sample_mean:.2f}만원\")\n",
        "print(f\"표본 표준편차: {sample_std:.2f}만원\")\n",
        "print(f\"표본 크기: {n}명\")\n",
        "print(f\"비교 기준값: {standard_value}만원\")"
      ],
      "metadata": {
        "colab": {
          "base_uri": "https://localhost:8080/"
        },
        "id": "uKFd9FpYD1eF",
        "outputId": "621eeb64-4d24-4bb4-e27e-6d3ac7dc4826"
      },
      "execution_count": null,
      "outputs": [
        {
          "output_type": "stream",
          "name": "stdout",
          "text": [
            "표본 평균: 130.09만원\n",
            "표본 표준편차: 33.90만원\n",
            "표본 크기: 100명\n",
            "비교 기준값: 150만원\n"
          ]
        }
      ]
    },
    {
      "cell_type": "markdown",
      "source": [
        "**자유도를 1로 설정한 이유**\n",
        "\n",
        "모집단이 아닌 표본 데이터를 기반으로 모집단의 분산 또는 표준편차를 추정할 때\n",
        "\n",
        "표본으로부터 분산을 계산할 때, 표본 평균(sample_mean)을 사용하므로 모든 표본이 독립적이지 않습니다.\n",
        "\n",
        "이로 인해 자유도가 n이 아닌 n-1이 됩니다.\n",
        "\n",
        "자유도 1을 차감하는 이유는 표본 평균이 이미 하나의 제약조건으로 작용하기 때문입니다. 다시 말해, 표본 데이터 n개 중 n-1개만 자유롭게 선택하면 마지막 하나는 평균으로부터 결정됩니다."
      ],
      "metadata": {
        "id": "V0tS4PaRGCoW"
      }
    },
    {
      "cell_type": "code",
      "source": [
        "# 문제 2-2: t-통계량 직접 계산하기\n",
        "# TODO: t-통계량 공식 사용하기\n",
        "# 힌트: t = (표본평균 - 기준값) / (표준편차 / sqrt(n))\n",
        "t_stat = (sample_mean - standard_value) / (sample_std / np.sqrt(n))\n",
        "\n",
        "print(f\"직접 계산한 t-통계량: {t_stat:.3f}\")\n",
        "\n",
        "# 비교를 위해 scipy로도 계산해보기\n",
        "from scipy.stats import ttest_1samp\n",
        "t_stat_scipy, p_value = ttest_1samp(purchase_amounts, standard_value)\n",
        "print(f\"scipy로 계산한 t-통계량: {t_stat_scipy:.3f}\")\n",
        "print(f\"p-value: {p_value:.4f}\")"
      ],
      "metadata": {
        "colab": {
          "base_uri": "https://localhost:8080/"
        },
        "id": "-EZgf2GZGO2w",
        "outputId": "8b3d35c3-36be-45f6-d978-54bfb5958911"
      },
      "execution_count": null,
      "outputs": [
        {
          "output_type": "stream",
          "name": "stdout",
          "text": [
            "직접 계산한 t-통계량: -5.874\n",
            "scipy로 계산한 t-통계량: -5.874\n",
            "p-value: 0.0000\n"
          ]
        }
      ]
    },
    {
      "cell_type": "markdown",
      "source": [
        "**t-통계량**: 표본 평균이 어떤 기준값(또는 다른 그룹)과 통계적으로 의미 있는 차이가 있는가?\"를 판단하기 위해 사용\n",
        "\n",
        "**왜 z-score 대신 t-통계량을 쓸까?**\n",
        "\n",
        "모집단의 표준편차(σ)를 알고 있으면 → z-score 사용\n",
        "\n",
        "모집단의 표준편차를 모르고, 표본에서 추정하면 → t-통계량 사용\n",
        "\n"
      ],
      "metadata": {
        "id": "ylGYLbQ6HDZl"
      }
    },
    {
      "cell_type": "code",
      "source": [
        "# 문제 2-3: 결과 해석하기\n",
        "# TODO: 유의수준 설정\n",
        "alpha = 0.05\n",
        "\n",
        "print(\"🎯 결과 해석\")\n",
        "\n",
        "# TODO: p-value와 alpha 비교하기\n",
        "if p_value < alpha:\n",
        "    print(f\"✅ p-value ({p_value:.4f}) < α ({alpha})\")\n",
        "    print(\"→ 귀무가설 기각! 업계 기준과 유의하게 다릅니다.\")\n",
        "\n",
        "    # TODO: 평균이 더 큰지 작은지 확인하기\n",
        "    if sample_mean > standard_value:\n",
        "        print(\"→ 우리 고객들이 업계 평균보다 더 많이 구매합니다! 🎉\")\n",
        "    else:\n",
        "        print(\"→ 우리 고객들이 업계 평균보다 적게 구매합니다. 😅\")\n",
        "else:\n",
        "    print(f\"❌ p-value ({p_value:.4f}) ≥ α ({alpha})\")\n",
        "    print(\"→ 업계 기준과 유의한 차이가 없습니다.\")"
      ],
      "metadata": {
        "colab": {
          "base_uri": "https://localhost:8080/"
        },
        "id": "IMoiRi1OHpBC",
        "outputId": "1ddf91b1-b214-4720-b4dc-95864b2c5304"
      },
      "execution_count": null,
      "outputs": [
        {
          "output_type": "stream",
          "name": "stdout",
          "text": [
            "🎯 결과 해석\n",
            "✅ p-value (0.0000) < α (0.05)\n",
            "→ 귀무가설 기각! 업계 기준과 유의하게 다릅니다.\n",
            "→ 우리 고객들이 업계 평균보다 적게 구매합니다. 😅\n"
          ]
        }
      ]
    },
    {
      "cell_type": "code",
      "source": [
        "# 문제 2-4: 연령대별 그룹 나누기\n",
        "# TODO: 젊은층 데이터 필터링 (20-39세)\n",
        "young_mask = (ages >= 20) & (ages <= 39)\n",
        "group1_purchases = purchase_amounts[young_mask]\n",
        "\n",
        "# TODO: 중년층 데이터 필터링 (40-59세)\n",
        "middle_mask = (ages >= 40) & (ages <= 59)\n",
        "group2_purchases = purchase_amounts[middle_mask]\n",
        "\n",
        "print(\"👥 그룹 나누기 결과\")\n",
        "print(f\"젊은층 (20-39세): {len(group1_purchases)}명\")\n",
        "print(f\"중년층 (40-59세): {len(group2_purchases)}명\")"
      ],
      "metadata": {
        "colab": {
          "base_uri": "https://localhost:8080/"
        },
        "id": "iR8Irs2WIiMU",
        "outputId": "32a33584-10c4-43e5-a3a4-ffc5f824c4c2"
      },
      "execution_count": null,
      "outputs": [
        {
          "output_type": "stream",
          "name": "stdout",
          "text": [
            "👥 그룹 나누기 결과\n",
            "젊은층 (20-39세): 47명\n",
            "중년층 (40-59세): 53명\n"
          ]
        }
      ]
    },
    {
      "cell_type": "code",
      "source": [
        "# 문제 2-5: 그룹별 기술통계 계산하기\n",
        "# TODO: 각 그룹의 평균 계산\n",
        "group1_mean = group1_purchases.mean()\n",
        "group2_mean = group2_purchases.mean()\n",
        "\n",
        "# TODO: 각 그룹의 표준편차 계산\n",
        "group1_std = group1_purchases.std()\n",
        "group2_std = group2_purchases.std()\n",
        "\n",
        "print(\"📊 그룹별 기술통계\")\n",
        "print(f\"젊은층 평균: {group1_mean:.1f}만원 (표준편차: {group1_std:.1f})\")\n",
        "print(f\"중년층 평균: {group2_mean:.1f}만원 (표준편차: {group2_std:.1f})\")\n",
        "\n",
        "# TODO: 평균 차이 계산\n",
        "diff = group2_mean - group1_mean\n",
        "print(f\"평균 차이: {diff:.1f}만원\")"
      ],
      "metadata": {
        "colab": {
          "base_uri": "https://localhost:8080/"
        },
        "id": "rengmL5TIlYy",
        "outputId": "8cd2af6b-fa5d-4fdf-e26c-acb8d3f32db3"
      },
      "execution_count": null,
      "outputs": [
        {
          "output_type": "stream",
          "name": "stdout",
          "text": [
            "📊 그룹별 기술통계\n",
            "젊은층 평균: 106.4만원 (표준편차: 25.0)\n",
            "중년층 평균: 151.1만원 (표준편차: 25.6)\n",
            "평균 차이: 44.6만원\n"
          ]
        }
      ]
    },
    {
      "cell_type": "code",
      "source": [
        "# 문제 2-6: 독립표본 t-검정 실행하기\n",
        "from scipy.stats import ttest_ind\n",
        "\n",
        "# TODO: 독립표본 t-검정 실행\n",
        "t_stat, p_value = ttest_ind(group1_purchases, group2_purchases)\n",
        "\n",
        "print(\"🧮 t-검정 결과\")\n",
        "print(f\"t-통계량: {t_stat:.3f}\")\n",
        "print(f\"p-value: {p_value:.4f}\")\n",
        "\n",
        "# ✅ 결과 해석하기\n",
        "alpha = 0.05\n",
        "print(\"🎯 비즈니스 해석\")\n",
        "\n",
        "if p_value < alpha:\n",
        "    print(\"✅ 통계적으로 유의한 차이가 있습니다!\")\n",
        "\n",
        "    if group2_mean > group1_mean:\n",
        "        print(\"→ 중년층이 젊은층보다 더 많이 구매합니다! 💳\")\n",
        "    else:\n",
        "        print(\"→ 젊은층이 중년층보다 더 많이 구매합니다! 🛍️\")\n",
        "else:\n",
        "    print(\"❌ 통계적으로 유의한 차이가 없습니다.\")"
      ],
      "metadata": {
        "colab": {
          "base_uri": "https://localhost:8080/"
        },
        "id": "sOvshW38JfUx",
        "outputId": "3440d575-12b0-43a5-e000-64652edf8f59"
      },
      "execution_count": null,
      "outputs": [
        {
          "output_type": "stream",
          "name": "stdout",
          "text": [
            "🧮 t-검정 결과\n",
            "t-통계량: -8.709\n",
            "p-value: 0.0000\n",
            "🎯 비즈니스 해석\n",
            "✅ 통계적으로 유의한 차이가 있습니다!\n",
            "→ 중년층이 젊은층보다 더 많이 구매합니다! 💳\n"
          ]
        }
      ]
    },
    {
      "cell_type": "markdown",
      "source": [
        "**t-검정**: 두 집단 간 평균의 차이가 우연인지, 아니면 통계적으로 유의미한지를 판단하기 위해서\n",
        "\n",
        "젊은층 평균 < 중년층 평균\n",
        "\n",
        "즉, 젊은층이 더 적게 구매한다는 방향성\n",
        "\n",
        "t-통계량이 ±2보다 크면 \"유의미하다\"고 판단\n",
        "\n",
        "즉, 두 그룹 평균이 거의 확실하게 다르다는 아주 강력한 증거"
      ],
      "metadata": {
        "id": "Gdn-zsXgNiVu"
      }
    },
    {
      "cell_type": "code",
      "source": [
        "# 문제 2-7: 등분산성 검정하기\n",
        "from scipy.stats import levene\n",
        "\n",
        "# TODO: 분산 직접 비교하기\n",
        "var1 = group1_purchases.var(ddof=1)\n",
        "var2 = group2_purchases.var(ddof=1)\n",
        "\n",
        "print(\"📊 분산 비교\")\n",
        "print(f\"젊은층 분산: {var1:.1f}\")\n",
        "print(f\"중년층 분산: {var2:.1f}\")\n",
        "\n",
        "# TODO: Levene 검정 실행하기\n",
        "levene_stat, levene_p = levene(group1_purchases, group2_purchases)\n",
        "\n",
        "print(\"🧪 Levene 등분산성 검정\")\n",
        "print(f\"p-value: {levene_p:.4f}\")\n",
        "\n",
        "# TODO: 등분산성 판단하기\n",
        "if levene_p >= 0.05:\n",
        "    print(\"✅ 등분산성 가정 만족\")\n",
        "else:\n",
        "    print(\"❌ 등분산성 가정 위배\")"
      ],
      "metadata": {
        "colab": {
          "base_uri": "https://localhost:8080/"
        },
        "id": "3CnFWzU9N1qY",
        "outputId": "76e28098-7cfe-4068-89e9-576817933c1a"
      },
      "execution_count": null,
      "outputs": [
        {
          "output_type": "stream",
          "name": "stdout",
          "text": [
            "📊 분산 비교\n",
            "젊은층 분산: 637.1\n",
            "중년층 분산: 669.5\n",
            "🧪 Levene 등분산성 검정\n",
            "p-value: 0.8106\n",
            "✅ 등분산성 가정 만족\n"
          ]
        }
      ]
    },
    {
      "cell_type": "markdown",
      "source": [
        "**등분산성 검정**\n",
        "\n",
        "두 그룹의 분산이 동일한지 확인 필요\n",
        "\n",
        "그래야 올바른 t-검정이 가능함\n",
        "\n",
        "p ≥ 0.05 -> 분산 차이 없다 → 등분산 가정 가능\n",
        "\n",
        "p < 0.05 -> 분산 차이 유의미함 → 등분산 가정 불가능"
      ],
      "metadata": {
        "id": "W_5r_DkZQugq"
      }
    },
    {
      "cell_type": "markdown",
      "source": [
        "#  미션 3: 직원 만족도 종합 분석"
      ],
      "metadata": {
        "id": "y8jqINajRF1o"
      }
    },
    {
      "cell_type": "code",
      "source": [
        "# 직원 만족도 종합 데이터 생성\n",
        "np.random.seed(2024)\n",
        "n = 250\n",
        "\n",
        "data_hr = {\n",
        "    '연봉': np.random.lognormal(np.log(50000), 0.3, n),\n",
        "    '근무연수': np.random.exponential(3, n),\n",
        "    '부서': np.random.choice(['영업', '개발', '마케팅', '인사'], n, p=[0.3, 0.4, 0.2, 0.1]),\n",
        "    '교육시간': np.random.gamma(2, 10, n),\n",
        "    '직급': np.random.choice(['사원', '대리', '과장', '부장'], n, p=[0.4, 0.3, 0.2, 0.1])\n",
        "}\n",
        "\n",
        "df_hr = pd.DataFrame(data_hr)\n",
        "\n",
        "# 만족도 점수 (1-10점) 생성\n",
        "satisfaction_base = (\n",
        "    df_hr['연봉']/10000 * 0.8 +\n",
        "    df_hr['근무연수'] * 0.3 +\n",
        "    df_hr['교육시간'] * 0.1\n",
        ")\n",
        "\n",
        "dept_effect = df_hr['부서'].map({'영업': -0.5, '개발': 0.8, '마케팅': 0.3, '인사': 0.0})\n",
        "rank_effect = df_hr['직급'].map({'사원': 0, '대리': 0.5, '과장': 1.0, '부장': 1.5})\n",
        "\n",
        "satisfaction = satisfaction_base + dept_effect + rank_effect + np.random.normal(0, 0.8, n)\n",
        "satisfaction = np.clip(satisfaction, 1, 10)\n",
        "\n",
        "# 이직 의향\n",
        "turnover_prob = 1 / (1 + np.exp(satisfaction - 5))\n",
        "turnover_intent = np.random.binomial(1, turnover_prob, n)\n",
        "\n",
        "df_hr['만족도'] = satisfaction.round(1)\n",
        "df_hr['이직의향'] = turnover_intent\n",
        "\n",
        "print(\"📊 직원 만족도 데이터 (처음 5개 행)\")\n",
        "print(df_hr.head())"
      ],
      "metadata": {
        "colab": {
          "base_uri": "https://localhost:8080/"
        },
        "id": "cCbJp5rBRHys",
        "outputId": "06dec266-b3d1-425e-fd69-e722b50df88e"
      },
      "execution_count": null,
      "outputs": [
        {
          "output_type": "stream",
          "name": "stdout",
          "text": [
            "📊 직원 만족도 데이터 (처음 5개 행)\n",
            "             연봉      근무연수   부서       교육시간  직급   만족도  이직의향\n",
            "0  82470.215328  5.843045   개발   4.431883  과장  10.0     0\n",
            "1  62378.915363  1.803688   개발   1.373603  대리   8.2     0\n",
            "2  47066.508609  0.211051  마케팅  17.196300  과장   7.6     0\n",
            "3  47786.798588  4.785220   개발  49.198119  과장  10.0     0\n",
            "4  65814.392648  2.060981   영업  18.363062  사원   9.1     0\n"
          ]
        }
      ]
    },
    {
      "cell_type": "code",
      "source": [
        "# 문제 3-1: 상관관계 매트릭스 만들기\n",
        "# TODO: 숫자형 변수들만 선별하기\n",
        "numeric_cols = ['연봉', '근무연수', '교육시간', '만족도', '이직의향']\n",
        "correlation_data = df_hr[numeric_cols]\n",
        "\n",
        "# TODO: 상관계수 매트릭스 계산하기\n",
        "correlation_matrix = correlation_data.corr()\n",
        "\n",
        "print(\"📊 상관계수 매트릭스\")\n",
        "print(correlation_matrix.round(3))"
      ],
      "metadata": {
        "colab": {
          "base_uri": "https://localhost:8080/"
        },
        "id": "QsnB8H0k6axy",
        "outputId": "8d03918e-734f-4d0d-e110-f0a5540fd630"
      },
      "execution_count": null,
      "outputs": [
        {
          "output_type": "stream",
          "name": "stdout",
          "text": [
            "📊 상관계수 매트릭스\n",
            "         연봉   근무연수   교육시간    만족도   이직의향\n",
            "연봉    1.000  0.101 -0.003  0.567 -0.265\n",
            "근무연수  0.101  1.000 -0.062  0.389 -0.130\n",
            "교육시간 -0.003 -0.062  1.000  0.484 -0.276\n",
            "만족도   0.567  0.389  0.484  1.000 -0.534\n",
            "이직의향 -0.265 -0.130 -0.276 -0.534  1.000\n"
          ]
        }
      ]
    },
    {
      "cell_type": "code",
      "source": [
        "# 문제 3-2: 만족도와의 상관관계 분석하기\n",
        "# TODO: 만족도와의 상관관계만 추출하기\n",
        "satisfaction_corr = correlation_matrix['만족도'].sort_values(ascending=False)\n",
        "\n",
        "print(\"🎯 만족도와의 상관관계 (높은 순)\")\n",
        "\n",
        "# TODO: for문으로 각 변수별 상관관계 출력하기\n",
        "for var, corr in satisfaction_corr.items():\n",
        "    if var != '만족도':\n",
        "        # TODO: 상관관계 강도 판단하기\n",
        "        if abs(corr) > 0.5:\n",
        "            strength = \"강한\"\n",
        "        elif abs(corr) > 0.3:\n",
        "            strength = \"중간\"\n",
        "        else:\n",
        "            strength = \"약한\"\n",
        "\n",
        "        direction = \"양의\" if corr > 0 else \"음의\"\n",
        "        print(f\"• {var}: {corr:.3f} ({strength} {direction} 상관관계)\")"
      ],
      "metadata": {
        "colab": {
          "base_uri": "https://localhost:8080/"
        },
        "id": "fTilE34e6gZZ",
        "outputId": "a78274a4-32c8-4b5a-bf26-f5060130dfcf"
      },
      "execution_count": null,
      "outputs": [
        {
          "output_type": "stream",
          "name": "stdout",
          "text": [
            "🎯 만족도와의 상관관계 (높은 순)\n",
            "• 연봉: 0.567 (강한 양의 상관관계)\n",
            "• 교육시간: 0.484 (중간 양의 상관관계)\n",
            "• 근무연수: 0.389 (중간 양의 상관관계)\n",
            "• 이직의향: -0.534 (강한 음의 상관관계)\n"
          ]
        }
      ]
    },
    {
      "cell_type": "code",
      "source": [
        "# 문제 3-3: 상관관계 히트맵 그리기\n",
        "# TODO: 히트맵 그리기\n",
        "plt.figure(figsize=(10, 8))\n",
        "\n",
        "numeric_cols = ['연봉', '근무연수', '교육시간', '만족도', '이직의향']\n",
        "corr = df_hr[numeric_cols].corr()\n",
        "\n",
        "# TODO: seaborn heatmap 사용하기\n",
        "# 힌트: sns.heatmap(data, annot=True, cmap='RdBu_r', center=0, fmt='.3f')\n",
        "sns.heatmap(corr, annot=True, cmap='RdBu_r', center=0, fmt='.3f')\n",
        "\n",
        "plt.title('📊 변수 간 상관관계 히트맵')\n",
        "plt.tight_layout()\n",
        "plt.show()"
      ],
      "metadata": {
        "colab": {
          "base_uri": "https://localhost:8080/",
          "height": 1000
        },
        "id": "EHRsgOnu6uqe",
        "outputId": "909ace98-0e8f-4cb0-88c5-893a51a76787"
      },
      "execution_count": null,
      "outputs": [
        {
          "output_type": "stream",
          "name": "stderr",
          "text": [
            "WARNING:matplotlib.font_manager:findfont: Font family 'NanumBarunGothic' not found.\n",
            "WARNING:matplotlib.font_manager:findfont: Font family 'NanumBarunGothic' not found.\n",
            "WARNING:matplotlib.font_manager:findfont: Font family 'NanumBarunGothic' not found.\n",
            "WARNING:matplotlib.font_manager:findfont: Font family 'NanumBarunGothic' not found.\n",
            "WARNING:matplotlib.font_manager:findfont: Font family 'NanumBarunGothic' not found.\n",
            "WARNING:matplotlib.font_manager:findfont: Font family 'NanumBarunGothic' not found.\n",
            "WARNING:matplotlib.font_manager:findfont: Font family 'NanumBarunGothic' not found.\n",
            "WARNING:matplotlib.font_manager:findfont: Font family 'NanumBarunGothic' not found.\n",
            "WARNING:matplotlib.font_manager:findfont: Font family 'NanumBarunGothic' not found.\n",
            "WARNING:matplotlib.font_manager:findfont: Font family 'NanumBarunGothic' not found.\n",
            "WARNING:matplotlib.font_manager:findfont: Font family 'NanumBarunGothic' not found.\n",
            "WARNING:matplotlib.font_manager:findfont: Font family 'NanumBarunGothic' not found.\n",
            "WARNING:matplotlib.font_manager:findfont: Font family 'NanumBarunGothic' not found.\n",
            "WARNING:matplotlib.font_manager:findfont: Font family 'NanumBarunGothic' not found.\n",
            "WARNING:matplotlib.font_manager:findfont: Font family 'NanumBarunGothic' not found.\n",
            "WARNING:matplotlib.font_manager:findfont: Font family 'NanumBarunGothic' not found.\n",
            "WARNING:matplotlib.font_manager:findfont: Font family 'NanumBarunGothic' not found.\n",
            "WARNING:matplotlib.font_manager:findfont: Font family 'NanumBarunGothic' not found.\n",
            "WARNING:matplotlib.font_manager:findfont: Font family 'NanumBarunGothic' not found.\n",
            "WARNING:matplotlib.font_manager:findfont: Font family 'NanumBarunGothic' not found.\n",
            "WARNING:matplotlib.font_manager:findfont: Font family 'NanumBarunGothic' not found.\n",
            "WARNING:matplotlib.font_manager:findfont: Font family 'NanumBarunGothic' not found.\n",
            "WARNING:matplotlib.font_manager:findfont: Font family 'NanumBarunGothic' not found.\n",
            "WARNING:matplotlib.font_manager:findfont: Font family 'NanumBarunGothic' not found.\n",
            "WARNING:matplotlib.font_manager:findfont: Font family 'NanumBarunGothic' not found.\n",
            "WARNING:matplotlib.font_manager:findfont: Font family 'NanumBarunGothic' not found.\n",
            "WARNING:matplotlib.font_manager:findfont: Font family 'NanumBarunGothic' not found.\n",
            "WARNING:matplotlib.font_manager:findfont: Font family 'NanumBarunGothic' not found.\n",
            "WARNING:matplotlib.font_manager:findfont: Font family 'NanumBarunGothic' not found.\n",
            "WARNING:matplotlib.font_manager:findfont: Font family 'NanumBarunGothic' not found.\n",
            "WARNING:matplotlib.font_manager:findfont: Font family 'NanumBarunGothic' not found.\n",
            "WARNING:matplotlib.font_manager:findfont: Font family 'NanumBarunGothic' not found.\n",
            "WARNING:matplotlib.font_manager:findfont: Font family 'NanumBarunGothic' not found.\n",
            "WARNING:matplotlib.font_manager:findfont: Font family 'NanumBarunGothic' not found.\n",
            "WARNING:matplotlib.font_manager:findfont: Font family 'NanumBarunGothic' not found.\n",
            "WARNING:matplotlib.font_manager:findfont: Font family 'NanumBarunGothic' not found.\n",
            "WARNING:matplotlib.font_manager:findfont: Font family 'NanumBarunGothic' not found.\n",
            "WARNING:matplotlib.font_manager:findfont: Font family 'NanumBarunGothic' not found.\n",
            "WARNING:matplotlib.font_manager:findfont: Font family 'NanumBarunGothic' not found.\n",
            "WARNING:matplotlib.font_manager:findfont: Font family 'NanumBarunGothic' not found.\n",
            "WARNING:matplotlib.font_manager:findfont: Font family 'NanumBarunGothic' not found.\n",
            "WARNING:matplotlib.font_manager:findfont: Font family 'NanumBarunGothic' not found.\n",
            "WARNING:matplotlib.font_manager:findfont: Font family 'NanumBarunGothic' not found.\n",
            "WARNING:matplotlib.font_manager:findfont: Font family 'NanumBarunGothic' not found.\n",
            "WARNING:matplotlib.font_manager:findfont: Font family 'NanumBarunGothic' not found.\n",
            "WARNING:matplotlib.font_manager:findfont: Font family 'NanumBarunGothic' not found.\n",
            "WARNING:matplotlib.font_manager:findfont: Font family 'NanumBarunGothic' not found.\n",
            "WARNING:matplotlib.font_manager:findfont: Font family 'NanumBarunGothic' not found.\n",
            "WARNING:matplotlib.font_manager:findfont: Font family 'NanumBarunGothic' not found.\n",
            "WARNING:matplotlib.font_manager:findfont: Font family 'NanumBarunGothic' not found.\n",
            "WARNING:matplotlib.font_manager:findfont: Font family 'NanumBarunGothic' not found.\n",
            "WARNING:matplotlib.font_manager:findfont: Font family 'NanumBarunGothic' not found.\n",
            "WARNING:matplotlib.font_manager:findfont: Font family 'NanumBarunGothic' not found.\n",
            "WARNING:matplotlib.font_manager:findfont: Font family 'NanumBarunGothic' not found.\n",
            "WARNING:matplotlib.font_manager:findfont: Font family 'NanumBarunGothic' not found.\n",
            "WARNING:matplotlib.font_manager:findfont: Font family 'NanumBarunGothic' not found.\n",
            "WARNING:matplotlib.font_manager:findfont: Font family 'NanumBarunGothic' not found.\n",
            "WARNING:matplotlib.font_manager:findfont: Font family 'NanumBarunGothic' not found.\n",
            "WARNING:matplotlib.font_manager:findfont: Font family 'NanumBarunGothic' not found.\n",
            "WARNING:matplotlib.font_manager:findfont: Font family 'NanumBarunGothic' not found.\n",
            "WARNING:matplotlib.font_manager:findfont: Font family 'NanumBarunGothic' not found.\n",
            "WARNING:matplotlib.font_manager:findfont: Font family 'NanumBarunGothic' not found.\n",
            "WARNING:matplotlib.font_manager:findfont: Font family 'NanumBarunGothic' not found.\n",
            "WARNING:matplotlib.font_manager:findfont: Font family 'NanumBarunGothic' not found.\n",
            "WARNING:matplotlib.font_manager:findfont: Font family 'NanumBarunGothic' not found.\n",
            "WARNING:matplotlib.font_manager:findfont: Font family 'NanumBarunGothic' not found.\n",
            "WARNING:matplotlib.font_manager:findfont: Font family 'NanumBarunGothic' not found.\n",
            "WARNING:matplotlib.font_manager:findfont: Font family 'NanumBarunGothic' not found.\n",
            "WARNING:matplotlib.font_manager:findfont: Font family 'NanumBarunGothic' not found.\n",
            "WARNING:matplotlib.font_manager:findfont: Font family 'NanumBarunGothic' not found.\n",
            "WARNING:matplotlib.font_manager:findfont: Font family 'NanumBarunGothic' not found.\n",
            "WARNING:matplotlib.font_manager:findfont: Font family 'NanumBarunGothic' not found.\n",
            "WARNING:matplotlib.font_manager:findfont: Font family 'NanumBarunGothic' not found.\n",
            "WARNING:matplotlib.font_manager:findfont: Font family 'NanumBarunGothic' not found.\n",
            "WARNING:matplotlib.font_manager:findfont: Font family 'NanumBarunGothic' not found.\n",
            "WARNING:matplotlib.font_manager:findfont: Font family 'NanumBarunGothic' not found.\n",
            "WARNING:matplotlib.font_manager:findfont: Font family 'NanumBarunGothic' not found.\n",
            "WARNING:matplotlib.font_manager:findfont: Font family 'NanumBarunGothic' not found.\n",
            "WARNING:matplotlib.font_manager:findfont: Font family 'NanumBarunGothic' not found.\n",
            "WARNING:matplotlib.font_manager:findfont: Font family 'NanumBarunGothic' not found.\n",
            "WARNING:matplotlib.font_manager:findfont: Font family 'NanumBarunGothic' not found.\n",
            "WARNING:matplotlib.font_manager:findfont: Font family 'NanumBarunGothic' not found.\n",
            "WARNING:matplotlib.font_manager:findfont: Font family 'NanumBarunGothic' not found.\n",
            "WARNING:matplotlib.font_manager:findfont: Font family 'NanumBarunGothic' not found.\n",
            "WARNING:matplotlib.font_manager:findfont: Font family 'NanumBarunGothic' not found.\n",
            "WARNING:matplotlib.font_manager:findfont: Font family 'NanumBarunGothic' not found.\n",
            "WARNING:matplotlib.font_manager:findfont: Font family 'NanumBarunGothic' not found.\n",
            "WARNING:matplotlib.font_manager:findfont: Font family 'NanumBarunGothic' not found.\n",
            "WARNING:matplotlib.font_manager:findfont: Font family 'NanumBarunGothic' not found.\n",
            "WARNING:matplotlib.font_manager:findfont: Font family 'NanumBarunGothic' not found.\n",
            "WARNING:matplotlib.font_manager:findfont: Font family 'NanumBarunGothic' not found.\n",
            "WARNING:matplotlib.font_manager:findfont: Font family 'NanumBarunGothic' not found.\n",
            "WARNING:matplotlib.font_manager:findfont: Font family 'NanumBarunGothic' not found.\n",
            "WARNING:matplotlib.font_manager:findfont: Font family 'NanumBarunGothic' not found.\n",
            "WARNING:matplotlib.font_manager:findfont: Font family 'NanumBarunGothic' not found.\n",
            "WARNING:matplotlib.font_manager:findfont: Font family 'NanumBarunGothic' not found.\n",
            "WARNING:matplotlib.font_manager:findfont: Font family 'NanumBarunGothic' not found.\n",
            "WARNING:matplotlib.font_manager:findfont: Font family 'NanumBarunGothic' not found.\n",
            "WARNING:matplotlib.font_manager:findfont: Font family 'NanumBarunGothic' not found.\n",
            "WARNING:matplotlib.font_manager:findfont: Font family 'NanumBarunGothic' not found.\n",
            "WARNING:matplotlib.font_manager:findfont: Font family 'NanumBarunGothic' not found.\n",
            "WARNING:matplotlib.font_manager:findfont: Font family 'NanumBarunGothic' not found.\n",
            "WARNING:matplotlib.font_manager:findfont: Font family 'NanumBarunGothic' not found.\n",
            "WARNING:matplotlib.font_manager:findfont: Font family 'NanumBarunGothic' not found.\n",
            "WARNING:matplotlib.font_manager:findfont: Font family 'NanumBarunGothic' not found.\n",
            "WARNING:matplotlib.font_manager:findfont: Font family 'NanumBarunGothic' not found.\n",
            "WARNING:matplotlib.font_manager:findfont: Font family 'NanumBarunGothic' not found.\n",
            "WARNING:matplotlib.font_manager:findfont: Font family 'NanumBarunGothic' not found.\n",
            "WARNING:matplotlib.font_manager:findfont: Font family 'NanumBarunGothic' not found.\n",
            "WARNING:matplotlib.font_manager:findfont: Font family 'NanumBarunGothic' not found.\n",
            "WARNING:matplotlib.font_manager:findfont: Font family 'NanumBarunGothic' not found.\n",
            "WARNING:matplotlib.font_manager:findfont: Font family 'NanumBarunGothic' not found.\n",
            "WARNING:matplotlib.font_manager:findfont: Font family 'NanumBarunGothic' not found.\n",
            "WARNING:matplotlib.font_manager:findfont: Font family 'NanumBarunGothic' not found.\n",
            "WARNING:matplotlib.font_manager:findfont: Font family 'NanumBarunGothic' not found.\n",
            "WARNING:matplotlib.font_manager:findfont: Font family 'NanumBarunGothic' not found.\n"
          ]
        },
        {
          "output_type": "display_data",
          "data": {
            "text/plain": [
              "<Figure size 1000x800 with 2 Axes>"
            ],
            "image/png": "[encoded data removed]"
          },
          "metadata": {}
        }
      ]
    },
    {
      "cell_type": "code",
      "source": [
        "# 문제 3-4: 부서별 만족도 비교하기\n",
        "# TODO: 부서별 그룹화해서 평균 계산하기\n",
        "dept_summary = df_hr.groupby('부서')['만족도'].mean()\n",
        "\n",
        "print(\"🏢 부서별 평균 만족도\")\n",
        "print(dept_summary.round(2))\n",
        "\n",
        "# TODO: 부서별 이직의향도 계산하기\n",
        "dept_turnover = df_hr.groupby('부서')['이직의향'].mean()\n",
        "\n",
        "print(\"\\n🏢 부서별 이직의향\")\n",
        "print(dept_turnover.round(3))\n",
        "\n",
        "# TODO: for문으로 부서별 상세 분석 출력하기\n",
        "print(\"\\n📋 부서별 상세 분석\")\n",
        "for dept in df_hr['부서'].unique():\n",
        "    # TODO: 해당 부서 데이터만 필터링하기\n",
        "    dept_data = df_hr[df_hr['부서'] == dept]\n",
        "\n",
        "    satisfaction_avg = dept_data['만족도'].mean()\n",
        "    turnover_avg = dept_data['이직의향'].mean()\n",
        "\n",
        "    print(f\"{dept}부: 만족도 {satisfaction_avg:.1f}점, 이직의향 {turnover_avg:.1%}\")"
      ],
      "metadata": {
        "colab": {
          "base_uri": "https://localhost:8080/"
        },
        "id": "fq4k3Hl46-kW",
        "outputId": "30041a37-7150-4ec5-987c-e08356631725"
      },
      "execution_count": null,
      "outputs": [
        {
          "output_type": "stream",
          "name": "stdout",
          "text": [
            "🏢 부서별 평균 만족도\n",
            "부서\n",
            "개발     7.76\n",
            "마케팅    7.82\n",
            "영업     6.96\n",
            "인사     6.93\n",
            "Name: 만족도, dtype: float64\n",
            "\n",
            "🏢 부서별 이직의향\n",
            "부서\n",
            "개발     0.139\n",
            "마케팅    0.208\n",
            "영업     0.276\n",
            "인사     0.278\n",
            "Name: 이직의향, dtype: float64\n",
            "\n",
            "📋 부서별 상세 분석\n",
            "개발부: 만족도 7.8점, 이직의향 13.9%\n",
            "마케팅부: 만족도 7.8점, 이직의향 20.8%\n",
            "영업부: 만족도 7.0점, 이직의향 27.6%\n",
            "인사부: 만족도 6.9점, 이직의향 27.8%\n"
          ]
        }
      ]
    },
    {
      "cell_type": "code",
      "source": [
        "# 문제 3-5: 더미 변수 생성하기\n",
        "# TODO: 부서를 더미 변수로 변환하기\n",
        "dept_dummies = pd.get_dummies(df_hr['부서'], prefix='부서')\n",
        "\n",
        "# TODO: 직급을 더미 변수로 변환하기\n",
        "rank_dummies = pd.get_dummies(df_hr['직급'], prefix='직급')\n",
        "\n",
        "# TODO: 기준 카테고리 제거하기 (다중공선성 방지)\n",
        "dept_dummies = dept_dummies.drop('부서_인사', axis=1)\n",
        "rank_dummies = rank_dummies.drop('직급_사원', axis=1)\n",
        "\n",
        "print(\"생성된 더미 변수들:\")\n",
        "print(\"부서:\", list(dept_dummies.columns))\n",
        "print(\"직급:\", list(rank_dummies.columns))\n"
      ],
      "metadata": {
        "colab": {
          "base_uri": "https://localhost:8080/"
        },
        "id": "BGI9kIpk7l5w",
        "outputId": "dbdacc2d-cf47-42a5-a81d-375a7ad6bb8b"
      },
      "execution_count": null,
      "outputs": [
        {
          "output_type": "stream",
          "name": "stdout",
          "text": [
            "생성된 더미 변수들:\n",
            "부서: ['부서_개발', '부서_마케팅', '부서_영업']\n",
            "직급: ['직급_과장', '직급_대리', '직급_부장']\n"
          ]
        }
      ]
    },
    {
      "cell_type": "code",
      "source": [
        "# 문제 3-6: 회귀분석용 데이터 준비하기\n",
        "from sklearn.linear_model import LinearRegression\n",
        "from sklearn.metrics import r2_score\n",
        "\n",
        "# TODO: 독립변수 데이터프레임 만들기\n",
        "X_vars = pd.concat([dept_dummies, rank_dummies], axis=1)\n",
        "# 힌트: df_hr[['연봉', '근무연수', '교육시간']]과 더미변수들을 합치세요\n",
        "\n",
        "# TODO: 종속변수 설정하기\n",
        "y_var = df_hr['만족도']\n",
        "\n",
        "print(\"🔧 회귀분석 변수 구성\")\n",
        "print(f\"독립변수 개수: {len(X_vars.columns)}개\")\n",
        "print(f\"독립변수: {list(X_vars.columns)}\")\n",
        "print(f\"종속변수: 만족도\")"
      ],
      "metadata": {
        "colab": {
          "base_uri": "https://localhost:8080/"
        },
        "id": "kGo1XEX-7rzj",
        "outputId": "c2c498bb-481e-4492-a29f-7717fcd896a3"
      },
      "execution_count": null,
      "outputs": [
        {
          "output_type": "stream",
          "name": "stdout",
          "text": [
            "🔧 회귀분석 변수 구성\n",
            "독립변수 개수: 6개\n",
            "독립변수: ['부서_개발', '부서_마케팅', '부서_영업', '직급_과장', '직급_대리', '직급_부장']\n",
            "종속변수: 만족도\n"
          ]
        }
      ]
    },
    {
      "cell_type": "code",
      "source": [
        "# 문제 3-7: 회귀분석 실행하기\n",
        "# TODO: 회귀모델 생성 및 학습하기\n",
        "model = LinearRegression()\n",
        "# model.fit() 사용하기\n",
        "model.fit(X_vars, y_var)\n",
        "\n",
        "# TODO: 예측값 계산하기\n",
        "y_pred = model.predict(X_vars)\n",
        "\n",
        "# TODO: R² 계산하기\n",
        "r2 = r2_score(y_var, y_pred)\n",
        "\n",
        "print(\"📊 다중회귀분석 결과\")\n",
        "print(f\"R² (설명력): {r2:.3f} ({r2*100:.1f}%)\")"
      ],
      "metadata": {
        "colab": {
          "base_uri": "https://localhost:8080/"
        },
        "id": "F78vC_W57yEq",
        "outputId": "72b1e36d-9a18-4d00-d850-c9a8336e05eb"
      },
      "execution_count": null,
      "outputs": [
        {
          "output_type": "stream",
          "name": "stdout",
          "text": [
            "📊 다중회귀분석 결과\n",
            "R² (설명력): 0.097 (9.7%)\n"
          ]
        }
      ]
    },
    {
      "cell_type": "code",
      "source": [
        "# 문제 3-8: 회귀계수 해석하기\n",
        "# TODO: 회귀계수를 데이터프레임으로 정리하기\n",
        "coefficients = pd.DataFrame({\n",
        "    '변수': X_vars.columns,\n",
        "    '계수': model.coef_,\n",
        "    '절댓값': np.abs(model.coef_)\n",
        "})\n",
        "\n",
        "# TODO: 절댓값 기준으로 정렬하기\n",
        "coefficients = coefficients.sort_values('절댓값', ascending=False)\n",
        "\n",
        "print(\"🔍 회귀계수 분석 (영향력 순)\")\n",
        "print(coefficients.head(5))  # 상위 5개만 출력\n",
        "\n",
        "# TODO: 가장 영향력이 큰 변수 찾기\n",
        "most_important = coefficients.iloc[0]\n",
        "print(f\"\\n가장 영향력이 큰 변수: {most_important['변수']} (계수: {most_important['계수']:.3f})\")"
      ],
      "metadata": {
        "colab": {
          "base_uri": "https://localhost:8080/"
        },
        "id": "ig9WDzQ-8fAV",
        "outputId": "4fa57a9f-90fa-41d0-edd9-bb7441091432"
      },
      "execution_count": null,
      "outputs": [
        {
          "output_type": "stream",
          "name": "stdout",
          "text": [
            "🔍 회귀계수 분석 (영향력 순)\n",
            "       변수        계수       절댓값\n",
            "5   직급_부장  1.363217  1.363217\n",
            "1  부서_마케팅  0.951799  0.951799\n",
            "0   부서_개발  0.847915  0.847915\n",
            "3   직급_과장  0.657350  0.657350\n",
            "4   직급_대리  0.468998  0.468998\n",
            "\n",
            "가장 영향력이 큰 변수: 직급_부장 (계수: 1.363)\n"
          ]
        }
      ]
    },
    {
      "cell_type": "code",
      "source": [
        "# 문제 3-9: 로지스틱 회귀 데이터 준비하기\n",
        "from sklearn.linear_model import LogisticRegression\n",
        "from sklearn.metrics import classification_report, confusion_matrix\n",
        "\n",
        "# TODO: 로지스틱 회귀용 독립변수와 종속변수 설정하기\n",
        "X_logistic = X_vars\n",
        "y_logistic = df_hr['이직의향']\n",
        "\n",
        "# TODO: 현재 이직 의향 현황 파악하기\n",
        "turnover_summary = df_hr['이직의향'].value_counts()\n",
        "turnover_rate = df_hr['이직의향'].mean()\n",
        "\n",
        "print(\"📊 현재 이직 의향 현황\")\n",
        "print(f\"이직 의향 있음: {turnover_summary[1]}명 ({turnover_rate:.1%})\")\n",
        "print(f\"이직 의향 없음: {turnover_summary[0]}명 ({1-turnover_rate:.1%})\")"
      ],
      "metadata": {
        "colab": {
          "base_uri": "https://localhost:8080/"
        },
        "id": "tHQF9eF48l1M",
        "outputId": "5583c26b-97cb-48e7-f922-28cbaa6663d3"
      },
      "execution_count": null,
      "outputs": [
        {
          "output_type": "stream",
          "name": "stdout",
          "text": [
            "📊 현재 이직 의향 현황\n",
            "이직 의향 있음: 51명 (20.4%)\n",
            "이직 의향 없음: 199명 (79.6%)\n"
          ]
        }
      ]
    },
    {
      "cell_type": "code",
      "source": [
        "# 문제 3-10: 로지스틱 회귀 모델 학습하기\n",
        "# TODO: 로지스틱 회귀 모델 생성하기\n",
        "logistic_model = LogisticRegression(random_state=42, max_iter=1000)\n",
        "\n",
        "# TODO: 모델 학습하기\n",
        "logistic_model.fit(X_logistic,y_logistic)\n",
        "\n",
        "# TODO: 이직 확률 예측하기\n",
        "y_pred_proba = logistic_model.predict_proba(X_logistic)[:, 1]\n",
        "\n",
        "# TODO: 이직 여부 예측하기 (0 또는 1)\n",
        "y_pred_class = logistic_model.predict(X_logistic)\n",
        "\n",
        "# TODO: 정확도 계산하기\n",
        "accuracy = (y_pred_class == y_logistic).mean()\n",
        "\n",
        "print(\"🤖 로지스틱 회귀 모델 성능\")\n",
        "print(f\"정확도: {accuracy:.3f}\")"
      ],
      "metadata": {
        "colab": {
          "base_uri": "https://localhost:8080/"
        },
        "id": "nFOKovZg8sn1",
        "outputId": "64e5c19c-a44c-414f-f188-70a8cdc159fa"
      },
      "execution_count": null,
      "outputs": [
        {
          "output_type": "stream",
          "name": "stdout",
          "text": [
            "🤖 로지스틱 회귀 모델 성능\n",
            "정확도: 0.796\n"
          ]
        }
      ]
    },
    {
      "cell_type": "code",
      "source": [
        "# 문제 3-11: 혼동 행렬 만들기\n",
        "# TODO: 혼동 행렬 계산하기\n",
        "cm = confusion_matrix(y_logistic, y_pred_class)\n",
        "\n",
        "print(\"📋 혼동 행렬\")\n",
        "print(\"실제 → 예측    이직안함  이직함\")\n",
        "print(f\"이직 안함        {cm[0,0]:3d}    {cm[0,1]:3d}\")\n",
        "print(f\"이직 함          {cm[1,0]:3d}    {cm[1,1]:3d}\")\n",
        "\n",
        "# TODO: 정밀도와 재현율 계산하기\n",
        "# 정밀도 = TP / (TP + FP)\n",
        "precision = cm[1,1] / (cm[1,1] + cm[0,1]) if (cm[1,1] + cm[0,1]) > 0 else 0\n",
        "\n",
        "# 재현율 = TP / (TP + FN)\n",
        "recall = cm[1,1] / (cm[1,1] + cm[1,0]) if (cm[1,1] + cm[1,0]) > 0 else 0\n",
        "\n",
        "print(f\"\\n정밀도: {precision:.3f}\")\n",
        "print(f\"재현율: {recall:.3f}\")"
      ],
      "metadata": {
        "colab": {
          "base_uri": "https://localhost:8080/"
        },
        "id": "YV7SyDQe9DhG",
        "outputId": "e514ce30-3771-43f9-bcb2-06eb0e99c221"
      },
      "execution_count": null,
      "outputs": [
        {
          "output_type": "stream",
          "name": "stdout",
          "text": [
            "📋 혼동 행렬\n",
            "실제 → 예측    이직안함  이직함\n",
            "이직 안함        199      0\n",
            "이직 함           51      0\n",
            "\n",
            "정밀도: 0.000\n",
            "재현율: 0.000\n"
          ]
        }
      ]
    },
    {
      "cell_type": "code",
      "source": [
        "# 문제 3-12: 오즈비 계산하기\n",
        "# TODO: 오즈비 계산하기\n",
        "# 힌트: 오즈비 = exp(회귀계수)\n",
        "odds_ratios = np.exp(logistic_model.coef_[0])\n",
        "\n",
        "# TODO: 오즈비 분석 데이터프레임 만들기\n",
        "odds_analysis = pd.DataFrame({\n",
        "    '변수': X_logistic.columns,\n",
        "    '계수': logistic_model.coef_[0],\n",
        "    '오즈비': odds_ratios,\n",
        "    '위험도변화':[(or_val - 1) * 100 for or_val in odds_ratios]\n",
        "})\n",
        "\n",
        "# TODO: 위험도 변화가 큰 순으로 정렬하기\n",
        "odds_analysis = odds_analysis.sort_values('위험도변화', key=abs, ascending=False)\n",
        "\n",
        "print(\"🎯 이직 위험 요인 분석 (상위 5개)\")\n",
        "print(odds_analysis.head())"
      ],
      "metadata": {
        "colab": {
          "base_uri": "https://localhost:8080/"
        },
        "id": "Kyfy4_s79OfQ",
        "outputId": "6eff9f6a-4845-44c9-89bc-9ecf7a4fbdfb"
      },
      "execution_count": null,
      "outputs": [
        {
          "output_type": "stream",
          "name": "stdout",
          "text": [
            "🎯 이직 위험 요인 분석 (상위 5개)\n",
            "       변수        계수       오즈비      위험도변화\n",
            "5   직급_부장 -0.866219  0.420539 -57.946137\n",
            "3   직급_과장 -0.733704  0.480127 -51.987253\n",
            "4   직급_대리 -0.635924  0.529446 -47.055387\n",
            "0   부서_개발 -0.621472  0.537153 -46.284683\n",
            "1  부서_마케팅 -0.201189  0.817758 -18.224194\n"
          ]
        }
      ]
    },
    {
      "cell_type": "code",
      "source": [
        "# 문제 3-13: 고위험군 식별하기\n",
        "# TODO: 고위험군 기준 설정하기 (70% 이상)\n",
        "high_risk_threshold = 0.7\n",
        "\n",
        "# TODO: 고위험군 직원 필터링하기\n",
        "high_risk_mask = y_pred_proba > high_risk_threshold\n",
        "high_risk_employees = df_hr[high_risk_mask]\n",
        "\n",
        "print(f\"🎯 이직 고위험군 식별\")\n",
        "print(f\"이직 확률 {high_risk_threshold:.0%} 이상 직원: {len(high_risk_employees)}명\")\n",
        "\n",
        "if len(high_risk_employees) > 0:\n",
        "    print(\"고위험군 특징:\")\n",
        "    # TODO: 고위험군의 평균 만족도 계산하기\n",
        "    avg_satisfaction = high_risk_employees['만족도'].mean()\n",
        "\n",
        "    # TODO: 고위험군의 평균 연봉 계산하기\n",
        "    avg_salary = high_risk_employees['연봉'].mean()\n",
        "\n",
        "    print(f\"• 평균 만족도: {avg_satisfaction:.1f}점\")\n",
        "    print(f\"• 평균 연봉: {avg_salary/10000:.0f}만원\")"
      ],
      "metadata": {
        "colab": {
          "base_uri": "https://localhost:8080/"
        },
        "id": "UjFxUdvb9V3I",
        "outputId": "e9cd2d23-8744-42ea-adca-993d9670b075"
      },
      "execution_count": null,
      "outputs": [
        {
          "output_type": "stream",
          "name": "stdout",
          "text": [
            "🎯 이직 고위험군 식별\n",
            "이직 확률 70% 이상 직원: 0명\n"
          ]
        }
      ]
    },
    {
      "cell_type": "code",
      "source": [
        "# 문제 3-14: 최종 권고안 작성하기\n",
        "print(\"📋 CEO 보고서: 직원 만족도 및 이직 방지 전략\")\n",
        "print(\"=\" * 60)\n",
        "\n",
        "# TODO: 현황 요약 작성하기\n",
        "print(\"\\n📊 현황 요약\")\n",
        "print(f\"• 전체 직원 만족도: {df_hr['만족도'].mean():.1f}/10점\")\n",
        "print(f\"• 현재 이직 의향률: {df_hr['이직의향'].mean():.1%}\")\n",
        "print(f\"• 고위험군: {len(high_risk_employees)}명\")\n",
        "\n",
        "# TODO: 부서별 위험도 분석하기\n",
        "print(\"\\n🏢 부서별 위험도 분석\")\n",
        "dept_risk = df_hr.groupby('부서')['이직의향'].mean().sort_values(ascending=False)\n",
        "\n",
        "for dept, risk in dept_risk.items():\n",
        "    if risk > 0.3:  # 30% 이상이면 높은 위험\n",
        "        emoji = \"🔴\"\n",
        "        level = \"높음\"\n",
        "    elif risk > 0.15:  # 15% 이상이면 보통\n",
        "        emoji = \"🟡\"\n",
        "        level = \"보통\"\n",
        "    else:\n",
        "        emoji = \"🟢\"\n",
        "        level = \"낮음\"\n",
        "\n",
        "    print(f\"{emoji} {dept}부: 이직률 {risk:.1%} (위험도: {level})\")\n",
        "\n",
        "# TODO: 핵심 발견사항 정리하기\n",
        "print(f\"\\n💡 핵심 발견사항\")\n",
        "most_important_factor = coefficients.iloc[0]\n",
        "print(f\"1️⃣ 만족도에 가장 큰 영향: {most_important_factor['변수']}\")\n",
        "\n",
        "# TODO: 권장 액션 플랜 작성하기\n",
        "print(f\"\\n🎯 권장 액션 플랜\")\n",
        "highest_risk_dept = dept_risk.index[0]  # 가장 위험한 부서\n",
        "print(f\"🚨 즉시 조치 필요: {highest_risk_dept}부 집중 관리\")\n",
        "print(f\"💰 투자 우선순위: 만족도 개선 프로그램\")\n",
        "print(f\"📊 모니터링: 월별 만족도 조사 실시\")"
      ],
      "metadata": {
        "colab": {
          "base_uri": "https://localhost:8080/"
        },
        "id": "9DiTn75y9c1Y",
        "outputId": "3997f629-a515-4292-d4fa-4259f45ba658"
      },
      "execution_count": null,
      "outputs": [
        {
          "output_type": "stream",
          "name": "stdout",
          "text": [
            "📋 CEO 보고서: 직원 만족도 및 이직 방지 전략\n",
            "============================================================\n",
            "\n",
            "📊 현황 요약\n",
            "• 전체 직원 만족도: 7.5/10점\n",
            "• 현재 이직 의향률: 20.4%\n",
            "• 고위험군: 0명\n",
            "\n",
            "🏢 부서별 위험도 분석\n",
            "🟡 인사부: 이직률 27.8% (위험도: 보통)\n",
            "🟡 영업부: 이직률 27.6% (위험도: 보통)\n",
            "🟡 마케팅부: 이직률 20.8% (위험도: 보통)\n",
            "🟢 개발부: 이직률 13.9% (위험도: 낮음)\n",
            "\n",
            "💡 핵심 발견사항\n",
            "1️⃣ 만족도에 가장 큰 영향: 직급_부장\n",
            "\n",
            "🎯 권장 액션 플랜\n",
            "🚨 즉시 조치 필요: 인사부 집중 관리\n",
            "💰 투자 우선순위: 만족도 개선 프로그램\n",
            "📊 모니터링: 월별 만족도 조사 실시\n"
          ]
        }
      ]
    }
  ]
}